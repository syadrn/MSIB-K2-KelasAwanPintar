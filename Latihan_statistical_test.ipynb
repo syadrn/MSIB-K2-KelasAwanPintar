{
 "cells": [
  {
   "cell_type": "markdown",
   "metadata": {
    "id": "cNzIDuWSmDgM"
   },
   "source": [
    "# Materi Tambahan Kasus Uji Beda\n",
    "Sebuah lembaga pelatihan bahasa inggris ingin mengetahui apakah pelatihan mereka berhasil meningkatkan skor TOEFL pesertanya. Mereka lalu menganalisa skor TOEFL sebelum dan sesudah pelatihan. Dengan tingkat kepercayaan 95%, apakah pelatihan ini berhasil?\n",
    "\n",
    "![alt text](https://drive.google.com/uc?id=1QN1HbirK1jx5hwlFVEGJUHM64GNjuS1p)\n",
    "\n",
    "\n"
   ]
  },
  {
   "cell_type": "code",
   "execution_count": null,
   "metadata": {
    "id": "JuDgnkw0l419"
   },
   "outputs": [],
   "source": [
    "#Library\n",
    "import pandas as pd\n",
    "import numpy as np\n",
    "from scipy import stats\n",
    "from sklearn.preprocessing import MinMaxScaler\n",
    "from sklearn.preprocessing import StandardScaler\n",
    "from sklearn.feature_selection import SelectKBest, f_classif\n",
    "from sklearn.model_selection import train_test_split\n",
    "import time\n",
    "from sklearn.neighbors import KNeighborsClassifier\n",
    "from sklearn import metrics\n",
    "from sklearn.decomposition import PCA\n",
    "from sklearn.discriminant_analysis import LinearDiscriminantAnalysis\n",
    "import matplotlib.pyplot as plt\n",
    "%matplotlib inline"
   ]
  },
  {
   "cell_type": "markdown",
   "metadata": {
    "id": "enm1JfVqwg2n"
   },
   "source": [
    "Membuat hipotesis\n",
    "\n",
    "Ho : Nilai TOEFL sesudah pelatihan <= sebelum pelatihan\n",
    "\n",
    "Ha : Nilai TOEFL sesudah pelatihan > sebelum pelatihan"
   ]
  },
  {
   "cell_type": "code",
   "execution_count": null,
   "metadata": {
    "colab": {
     "base_uri": "https://localhost:8080/",
     "height": 419
    },
    "id": "AgVflauDwvgS",
    "outputId": "d9a102bc-ddef-43c4-b491-ba1e1631012d"
   },
   "outputs": [],
   "source": [
    "toefl = pd.read_csv('skor_toefl.csv')\n",
    "toefl"
   ]
  },
  {
   "cell_type": "markdown",
   "metadata": {
    "id": "d4_pQVkuxfMk"
   },
   "source": [
    "Menentukan uji statistik\n",
    "\n",
    "![alt text](https://drive.google.com/uc?id=1asHY6TCNsltT7O8H6CmlEqQxQPgKH-6d)\n",
    "\n",
    "Meski datanya ada 2, namun masih dari orang yang sama sehingga termasuk uji beda 2 kelompok berhubungan. Datanya numerik dan jumlahnya juga cukup banyak sehingga menurut teorema limit pusat yang dibahas minggu lalu, distribusi datanya mendekati normal. Menurut tabel diatas, uji statistik yang sesuai adalah \"paired sample t-test\". Di python uji ini tersedia di scipy.stats dengan nama \"ttest_rel\""
   ]
  },
  {
   "cell_type": "code",
   "execution_count": null,
   "metadata": {
    "colab": {
     "base_uri": "https://localhost:8080/"
    },
    "id": "i20ZTsqdw6J6",
    "outputId": "5bf57a1c-9923-4efd-95b5-e06a1b33cfb7"
   },
   "outputs": [],
   "source": [
    "#Melakukan uji t\n",
    "uji_t = stats.ttest_rel(toefl['Sesudah'], toefl['Sebelum']) #hasilnya: (statistik hitungnya (t-hitung), pvalue)\n",
    "print('nilai t-hitung = ', uji_t[0])\n",
    "print('nilai p-value = ', uji_t[1])"
   ]
  },
  {
   "cell_type": "markdown",
   "metadata": {
    "id": "FydGBAmq0LyY"
   },
   "source": [
    "Berdasarkan hasil diatas, p-value = 1,6 x 10^(-51) < alpha (5%). Maka Ho ditolak, terdapat peningkatan yang signifikan dari TOEFL bahasa Inggris peserta pelatihan"
   ]
  },
  {
   "cell_type": "markdown",
   "metadata": {
    "id": "sK7u1bocmQas"
   },
   "source": [
    "Apa yang dapat kamu simpulkan dari uji hipotesa?"
   ]
  },
  {
   "cell_type": "code",
   "execution_count": null,
   "metadata": {
    "id": "g9s63zNd9L0X"
   },
   "outputs": [],
   "source": [
    "Hipotesis nol (Ho): Nilai TOEFL setelah pelatihan kurang dari atau sama dengan sebelum pelatihan.\n",
    "Hipotesis alternatif (Ha): Nilai TOEFL setelah pelatihan lebih tinggi daripada sebelum pelatihan.\n",
    "Setelah dilakukan uji paired sample t-test, diperoleh:\n",
    "\n",
    "Nilai t-hitung: 30,255\n",
    "Nilai p-value: 1,638 × 10^(-51)\n",
    "Karena nilai p-value jauh lebih kecil dari tingkat signifikansi α (5%), maka Ho ditolak.\n",
    "Dengan demikian, terdapat peningkatan yang signifikan dalam skor TOEFL peserta setelah mengikuti pelatihan"
   ]
  }
 ],
 "metadata": {
  "colab": {
   "include_colab_link": true,
   "provenance": []
  },
  "kernelspec": {
   "display_name": "Python 3",
   "name": "python3"
  },
  "language_info": {
   "name": "python"
  }
 },
 "nbformat": 4,
 "nbformat_minor": 0
}
