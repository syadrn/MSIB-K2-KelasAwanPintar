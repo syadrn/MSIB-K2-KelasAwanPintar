{
 "cells": [
  {
   "cell_type": "code",
   "execution_count": null,
   "metadata": {
    "colab": {
     "base_uri": "https://localhost:8080/"
    },
    "id": "5uloUwmUKF05",
    "outputId": "d96bd6a6-67ec-4d93-b423-42f06d472c00"
   },
   "outputs": [],
   "source": [
    "# verify CUDA\n",
    "!/usr/local/cuda/bin/nvcc --version"
   ]
  },
  {
   "cell_type": "code",
   "execution_count": null,
   "metadata": {
    "colab": {
     "base_uri": "https://localhost:8080/"
    },
    "id": "ucOr-01xMikW",
    "outputId": "516916d8-c0b0-4003-d66b-fb690994725a"
   },
   "outputs": [],
   "source": [
    "#take a look at the kind of GPU we have\n",
    "!nvidia-smi"
   ]
  },
  {
   "cell_type": "markdown",
   "metadata": {
    "id": "16pvdFMa1FEe"
   },
   "source": [
    "# Installing Darknet for YOLOv4 on Colab\n",
    "\n",
    "\n"
   ]
  },
  {
   "cell_type": "code",
   "execution_count": null,
   "metadata": {
    "colab": {
     "base_uri": "https://localhost:8080/"
    },
    "id": "ifdq_2rCMsUv",
    "outputId": "5cd190ae-8413-40ff-b096-afc44f03c069"
   },
   "outputs": [],
   "source": [
    "%cd /content/\n",
    "%rm -rf darknet"
   ]
  },
  {
   "cell_type": "code",
   "execution_count": null,
   "metadata": {
    "colab": {
     "base_uri": "https://localhost:8080/"
    },
    "id": "68eMertgIxaB",
    "outputId": "213e4651-6112-4c98-d5ec-0f41aa699dba"
   },
   "outputs": [],
   "source": [
    "# clone darknet repo\n",
    "!git clone https://github.com/AlexeyAB/darknet"
   ]
  },
  {
   "cell_type": "code",
   "execution_count": null,
   "metadata": {
    "colab": {
     "base_uri": "https://localhost:8080/"
    },
    "id": "xym8_m8CIyXK",
    "outputId": "6e32d6b8-4e41-4f17-d665-e7e74685db2a"
   },
   "outputs": [],
   "source": [
    "# change makefile to have GPU and OPENCV enabled\n",
    "%cd darknet\n",
    "!sed -i 's/OPENCV=0/OPENCV=1/' Makefile\n",
    "!sed -i 's/GPU=0/GPU=1/' Makefile\n",
    "!sed -i 's/CUDNN=0/CUDNN=1/' Makefile\n",
    "!sed -i 's/CUDNN_HALF=0/CUDNN_HALF=1/' Makefile"
   ]
  },
  {
   "cell_type": "markdown",
   "metadata": {
    "id": "7FS9Fd4-Yi8-"
   },
   "source": [
    "**IMPORTANT! If you're not using a K80 GPU, then uncomment the sed command and replace the arch and code with that matching your GPU. A list can be found [here](http://arnon.dk/matching-sm-architectures-arch-and-gencode-for-various-nvidia-cards/).**"
   ]
  },
  {
   "cell_type": "code",
   "execution_count": null,
   "metadata": {
    "colab": {
     "base_uri": "https://localhost:8080/"
    },
    "id": "QyMBDkaL-Aep",
    "outputId": "127fbed1-2512-430c-f403-413184718116"
   },
   "outputs": [],
   "source": [
    "#install environment from the Makefile\n",
    "%cd darknet/\n",
    "# compute_30, sm_30 for Tesla K80\n",
    "# compute_75, sm_75 for Tesla T4\n",
    "# !sed -i 's/ARCH= -gencode arch=compute_60,code=sm_60/ARCH= -gencode arch=compute_30,code=sm_30/g' Makefile\n",
    "\n",
    "#install environment from the Makefile\n",
    "#note if you are on Colab Pro this works on a P100 GPU\n",
    "#if you are on Colab free, you may need to change the Makefile for the K80 GPU\n",
    "#this goes for any GPU, you need to change the Makefile to inform darknet which GPU you are running on.\n",
    "!make"
   ]
  },
  {
   "cell_type": "markdown",
   "metadata": {
    "id": "a7_yikWWhqCi"
   },
   "source": [
    "## Clone a helper repo\n",
    "It makes training the medical mask detecting model easy.\n",
    "In order to train on your own data, this repo can be used as a blueprint.\n",
    "Changes to some files need to be made according to own data, but it is nothing complicated."
   ]
  },
  {
   "cell_type": "code",
   "execution_count": null,
   "metadata": {
    "colab": {
     "base_uri": "https://localhost:8080/"
    },
    "id": "Qs8vZ5uK7Ry9",
    "outputId": "3a7c9ba8-cf47-4095-eb09-2737bdac04f1"
   },
   "outputs": [],
   "source": [
    "repo_url = 'https://github.com/GotG/yolotinyv3_medmask_demo'\n",
    "import os\n",
    "%cd /content\n",
    "repo_dir_path = os.path.abspath(os.path.join('.', os.path.basename(repo_url)))\n",
    "!git clone {repo_url}\n",
    "%cd {repo_dir_path}\n"
   ]
  },
  {
   "cell_type": "code",
   "execution_count": null,
   "metadata": {
    "id": "FzoJQQw8Zdco"
   },
   "outputs": [],
   "source": [
    "#define utility function\n",
    "def imShow(path):\n",
    "  import cv2\n",
    "  import matplotlib.pyplot as plt\n",
    "  %matplotlib inline\n",
    "\n",
    "  image = cv2.imread(path)\n",
    "  height, width = image.shape[:2]\n",
    "  resized_image = cv2.resize(image,(3*width, 3*height), interpolation = cv2.INTER_CUBIC)\n",
    "\n",
    "  fig = plt.gcf()\n",
    "  fig.set_size_inches(18, 10)\n",
    "  plt.axis(\"off\")\n",
    "  #plt.rcParams['figure.figsize'] = [10, 5]\n",
    "  plt.imshow(cv2.cvtColor(resized_image, cv2.COLOR_BGR2RGB))\n",
    "  plt.show()"
   ]
  },
  {
   "cell_type": "markdown",
   "metadata": {
    "id": "94rKAaMmrHvm"
   },
   "source": [
    "## Change the labels in obj.names to our current labels"
   ]
  },
  {
   "cell_type": "code",
   "execution_count": null,
   "metadata": {
    "colab": {
     "base_uri": "https://localhost:8080/"
    },
    "id": "dHz-T_uqO417",
    "outputId": "9329660e-0666-4456-a7f3-f4ba8c7b90a6"
   },
   "outputs": [],
   "source": [
    "labels_path = '/content/yolotinyv3_medmask_demo/obj.names'\n",
    "#make a list of your labels\n",
    "labels = ['mask','no mask']\n",
    "# labels = ['good','bad']\n",
    "\n",
    "with open(labels_path, 'w') as f:\n",
    "\n",
    "    f.write('\\n'.join(labels))\n",
    "\n",
    "#check that the labels file is correct\n",
    "!cat /content/yolotinyv3_medmask_demo/obj.names"
   ]
  },
  {
   "cell_type": "markdown",
   "metadata": {
    "id": "QmsQt5L5uETj"
   },
   "source": [
    "## Change the number of classes in obj.data.\n",
    "The paths are relative so no change there as long as the folder/file structure/names are not changed."
   ]
  },
  {
   "cell_type": "code",
   "execution_count": null,
   "metadata": {
    "colab": {
     "base_uri": "https://localhost:8080/"
    },
    "id": "71FvOdrKO1QO",
    "outputId": "714a2a42-b807-4a45-91a2-2a8febb778b7"
   },
   "outputs": [],
   "source": [
    "import re\n",
    "objdata = '/content/yolotinyv3_medmask_demo/obj.data'\n",
    "with open(objdata) as f:\n",
    "    s = f.read()\n",
    "\n",
    "#the number of classes is equal to the number of labels\n",
    "num_classes = len(labels)\n",
    "s = re.sub('classes = \\d*','classes = ' + str(num_classes),s)\n",
    "\n",
    "with open(objdata, 'w') as f:\n",
    "  f.write(s)\n",
    "!cat /content/yolotinyv3_medmask_demo/obj.data"
   ]
  },
  {
   "cell_type": "markdown",
   "metadata": {
    "id": "zq6MLtxbOkML"
   },
   "source": [
    "### Now that we see which parameters are of importance, let's modify them according to our dataset."
   ]
  },
  {
   "cell_type": "code",
   "execution_count": null,
   "metadata": {
    "id": "MKS78ExHOp71"
   },
   "outputs": [],
   "source": [
    "# set the number of max_batches - min 2000 per class:\n",
    "max_batch=4000\n",
    "# calculate the 2 steps values:\n",
    "step1 = 0.8 * max_batch\n",
    "step2 = 0.9 * max_batch\n",
    "\n",
    "# we also need to adjust the number of classes and a parameter called filter size\n",
    "# that are both is inside the model structure\n",
    "\n",
    "# num_classes = len(labels)\n",
    "num_filters = (num_classes + 5) * 3\n",
    "\n",
    "\n",
    "#cfg_file = '/content/yolotinyv3_medmask_demo/yolov3-tiny_obj.cfg'\n",
    "cfg_file = '/content/yolotinyv3_medmask_demo/yolov4-tiny.cfg'\n",
    "\n",
    "with open(cfg_file) as f:\n",
    "    s = f.read()\n",
    "# (re.sub('[a-z]*@', 'ABC@', s))\n",
    "s = re.sub('max_batches = \\d*','max_batches = '+str(max_batch),s)\n",
    "s = re.sub('steps=\\d*,\\d*','steps='+\"{:.0f}\".format(step1)+','+\"{:.0f}\".format(step2),s)\n",
    "s = re.sub('classes=\\d*','classes='+str(num_classes),s)\n",
    "s = re.sub('pad=1\\nfilters=\\d*','pad=1\\nfilters='+\"{:.0f}\".format(num_filters),s)\n",
    "# pad=1\\nfilters=\\d\\d\n",
    "# s = re.sub('CUDNN=0','CUDNN=1',s)\n",
    "# s = re.sub('OPENCV=0','OPENCV=1',s)\n",
    "\n",
    "with open(cfg_file, 'w') as f:\n",
    "  # s = re.sub('GPU=0','GPU=1',s)\n",
    "  f.write(s)\n"
   ]
  },
  {
   "cell_type": "markdown",
   "metadata": {
    "id": "CUaW_i1UL0Pp"
   },
   "source": [
    "## Start the model training"
   ]
  },
  {
   "cell_type": "code",
   "execution_count": null,
   "metadata": {
    "colab": {
     "background_save": true,
     "base_uri": "https://localhost:8080/"
    },
    "id": "tdt4WtP9kpm8",
    "outputId": "53c1b862-788c-4615-a11c-9f4baea19742"
   },
   "outputs": [],
   "source": [
    "%cd ../darknet/\n",
    "!./darknet detector train /content/yolotinyv3_medmask_demo/obj.data /content/yolotinyv3_medmask_demo/yolov4-tiny.cfg /content/yolotinyv3_medmask_demo/yolov4-tiny.conv.29 -dont_show -ext_output -map"
   ]
  },
  {
   "cell_type": "code",
   "execution_count": null,
   "metadata": {
    "colab": {
     "base_uri": "https://localhost:8080/",
     "height": 575
    },
    "id": "A4WjyX8OlFSC",
    "outputId": "37f16cee-b0c0-402f-8a35-614c71751c1c"
   },
   "outputs": [],
   "source": [
    "imShow(\"chart_yolov4-tiny.png\")"
   ]
  },
  {
   "cell_type": "markdown",
   "metadata": {
    "id": "_JTBMYlIn9Jw"
   },
   "source": [
    "## Check the model performance\n",
    "The metrics run on the test images so they may not be fully representative, only indicative"
   ]
  },
  {
   "cell_type": "code",
   "execution_count": null,
   "metadata": {
    "colab": {
     "base_uri": "https://localhost:8080/"
    },
    "id": "MwAVsyrxrwSI",
    "outputId": "6fbe4c4f-fe04-4c8f-8f02-797405b45734"
   },
   "outputs": [],
   "source": [
    "!./darknet detector map /content/yolotinyv3_medmask_demo/obj.data /content/yolotinyv3_medmask_demo/yolov4-tiny.cfg \"/content/darknet/backup/yolov4-tiny_best.weights\" -points 0"
   ]
  },
  {
   "cell_type": "markdown",
   "metadata": {
    "id": "VxIm51pFoUQO"
   },
   "source": [
    "## Run detection on an image. I choose one of the test images from test.txt"
   ]
  },
  {
   "cell_type": "code",
   "execution_count": null,
   "metadata": {
    "colab": {
     "base_uri": "https://localhost:8080/",
     "height": 1000
    },
    "id": "RRI2S26nsNzM",
    "outputId": "7ef027d1-2c14-48c3-8260-fd947d7e01cf"
   },
   "outputs": [],
   "source": [
    "!./darknet detector test /content/yolotinyv3_medmask_demo/obj.data  /content/yolotinyv3_medmask_demo/yolov4-tiny.cfg  \"/content/darknet/backup/yolov4-tiny_best.weights\" /content/yolotinyv3_medmask_demo/obj/0633.jpg -ext_output\n",
    "imShow('predictions.jpg')"
   ]
  },
  {
   "cell_type": "markdown",
   "metadata": {
    "id": "AoxKr73dgd3i"
   },
   "source": [
    "# Step 7: Running YOLOv4 on Video in the Cloud!\n",
    "\n",
    "You can also run YOLOv4 object detections on video in your Google Colab VM. Follow the cells below to see how to run videos from your local machine or from your Google Drive!"
   ]
  },
  {
   "cell_type": "markdown",
   "metadata": {
    "id": "RSVop1HHkFOo"
   },
   "source": [
    "## Local Machine Video\n",
    "Here is how to upload video from local machine, run detector and then download video showing detections."
   ]
  },
  {
   "cell_type": "code",
   "execution_count": null,
   "metadata": {
    "colab": {
     "base_uri": "https://localhost:8080/"
    },
    "id": "EmKMPcmDfF7X",
    "outputId": "eedadbdc-fbaa-4de2-fbb7-cead04621ef8"
   },
   "outputs": [],
   "source": [
    "!wget -O test.mp4 \"https://github.com/ibaiGorordo/Social-Distance-Feedback/raw/master/Part%202%20-%20Mask%20Detection/Face%20Mask%20Detection%20Inference%20Comparison/videos/production%20ID_4236787.mp4\""
   ]
  },
  {
   "cell_type": "code",
   "execution_count": null,
   "metadata": {
    "colab": {
     "base_uri": "https://localhost:8080/"
    },
    "id": "Lgf-ZUbqbb4K",
    "outputId": "5cffb6a3-b25f-4fb5-83b8-9bc6d8137e2e"
   },
   "outputs": [],
   "source": [
    "!./darknet detector demo /content/yolotinyv3_medmask_demo/obj.data  /content/yolotinyv3_medmask_demo/yolov4-tiny.cfg  \"/content/darknet/backup/yolov4-tiny_best.weights\" -dont_show test.mp4 -i 0 -out_filename results.avi"
   ]
  },
  {
   "cell_type": "code",
   "execution_count": null,
   "metadata": {
    "colab": {
     "base_uri": "https://localhost:8080/",
     "height": 34
    },
    "id": "fkPm6t6yj6Ky",
    "outputId": "20db7aa6-84d4-4aa0-8812-d5b362e2af06"
   },
   "outputs": [],
   "source": [
    "# download the video with detections shown\n",
    "from google.colab import files\n",
    "\n",
    "video_path = 'results.avi'\n",
    "files.download(video_path)"
   ]
  },
  {
   "cell_type": "code",
   "execution_count": null,
   "metadata": {
    "id": "M02yr967VKL3"
   },
   "outputs": [],
   "source": [
    "from google.colab import files"
   ]
  },
  {
   "cell_type": "code",
   "execution_count": null,
   "metadata": {
    "colab": {
     "base_uri": "https://localhost:8080/",
     "height": 34
    },
    "id": "YmUOR7guH7cJ",
    "outputId": "8b61b273-6800-4982-931e-716bd31a5119"
   },
   "outputs": [],
   "source": [
    "files.download('/content/darknet/backup/yolov4-tiny_best.weights')"
   ]
  },
  {
   "cell_type": "code",
   "execution_count": null,
   "metadata": {
    "id": "aX-iPxysICEv"
   },
   "outputs": [],
   "source": []
  }
 ],
 "metadata": {
  "accelerator": "GPU",
  "colab": {
   "include_colab_link": true,
   "provenance": []
  },
  "kernelspec": {
   "display_name": "Python 3",
   "name": "python3"
  }
 },
 "nbformat": 4,
 "nbformat_minor": 0
}
