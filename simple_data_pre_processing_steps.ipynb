{
 "cells": [
  {
   "cell_type": "markdown",
   "metadata": {
    "_uuid": "674378297bf7f78937a4f1aa466932e68466efcd",
    "id": "_4hdWDW_NkCU"
   },
   "source": [
    "### Data Pre-processing Stage\n",
    "\n",
    "\n",
    "  Pada notebook ini berisi tentang basic dalam data pre-processing\n"
   ]
  },
  {
   "cell_type": "code",
   "execution_count": null,
   "metadata": {
    "id": "xuL21IMSCRkB"
   },
   "outputs": [],
   "source": []
  },
  {
   "cell_type": "markdown",
   "metadata": {
    "_uuid": "fe10f16ae89b1e2579469abba5542de59d18ca7d",
    "id": "Ve2KcprKNkCh"
   },
   "source": [
    "#### Why preprocessing ?\n",
    "1. Data yang kita punya dalam dunia nyata biasanya:\n",
    "    * Incomplete: lacking attribute values, lacking certain attributes of interest, or containing only aggregate data.\n",
    "    * Noisy: mengandung error seperti missing values dan outliers.\n",
    "    * Inconsistent: mengandung perbedaan dalam penulisan kolom."
   ]
  },
  {
   "cell_type": "markdown",
   "metadata": {
    "id": "5a-ybLX0fQb7"
   },
   "source": [
    "# 1. Data Cleaning"
   ]
  },
  {
   "cell_type": "markdown",
   "metadata": {
    "id": "fO6BRVfRp123"
   },
   "source": [
    "*  Import library\n",
    "Pada percobaan kali ini kita hanya membutuhkan 3 library yaitu pandas, numpy dan seaborn. Pandas berguna untuk mengimport datasetnya sedangkan numpy akan kita gunakan dalam mempreproses datanya.\n"
   ]
  },
  {
   "cell_type": "code",
   "execution_count": null,
   "metadata": {
    "_uuid": "3ed37978d39bc4b4497ed16fd66a99a40df07561",
    "id": "_XcFV_m2fznJ"
   },
   "outputs": [],
   "source": [
    "import numpy as np\n",
    "import pandas as pd\n",
    "import seaborn as sns"
   ]
  },
  {
   "cell_type": "markdown",
   "metadata": {
    "id": "OxMDBFeKgLFe"
   },
   "source": [
    "\n",
    "\n",
    "\n",
    "*   Import dataset\n",
    "\n",
    "Mari kita pakai sebuah dataset sederhana untuk latihan.\n",
    "Dataset \"data.csv\" mengandung informasi dimana apakah user akan membeli sebuah product atau tidak.\n",
    "User mempunya fitur age,salary, dan negara tempat mereka tinggal.\n",
    "Import datasetnya dengan download link dibawah:\n",
    "Link Dataset: https://drive.google.com/file/d/1n0cdPoapQQilWy4EKWiyDgi4WXx-kZ7D/view?usp=sharing dan upload dataset ke dalam folder collab.\n"
   ]
  },
  {
   "cell_type": "code",
   "execution_count": null,
   "metadata": {
    "colab": {
     "base_uri": "https://localhost:8080/"
    },
    "id": "v9kM_qx6hD7L",
    "outputId": "adc15b01-f66a-4ad7-8eb4-cdba1d6240f3"
   },
   "outputs": [],
   "source": [
    "dataset = pd.read_csv(\"Data.csv\")\n",
    "\n",
    "\n",
    "# Menampilkan shape dari data yg kita punya\n",
    "print('dataset:', (str(dataset.shape)))"
   ]
  },
  {
   "cell_type": "markdown",
   "metadata": {
    "_uuid": "f2255fd0287097870845b0b4dbfd4e4ac04ea9f9",
    "id": "JMU9b6BfNkCq"
   },
   "source": [
    "Dataset kita mengandung 15 rows dan 4 columns.\n",
    "Itu artinya kita mempunyai 15 data dan 4 Kolom"
   ]
  },
  {
   "cell_type": "code",
   "execution_count": null,
   "metadata": {
    "_uuid": "2764bded9c4328f4ca9902a333d882b12d09223e",
    "colab": {
     "base_uri": "https://localhost:8080/",
     "height": 520
    },
    "id": "bZWNWqlINkCs",
    "outputId": "0db6271d-a6d4-44a0-997f-922e68480292"
   },
   "outputs": [],
   "source": [
    "# print the dataset\n",
    "dataset"
   ]
  },
  {
   "cell_type": "code",
   "execution_count": null,
   "metadata": {
    "_uuid": "0b51a61e0f0b243b1b3c5650a30dcf02d6f943a5",
    "id": "UC-7LOV3NkCt"
   },
   "outputs": [],
   "source": [
    "# Memisahkan antara fitur dan label\n",
    "\n",
    "# Fitur\n",
    "# iloc[rows,columns] (Slicing pada dataframe)\n",
    "# Mengambil semua data dalam barisan.\n",
    "# Mengambil kolom index ke-0 sampai ke-2\n",
    "X = dataset.iloc[:,:3].values\n",
    "\n",
    "# Label\n",
    "# iloc[rows,columns] (Slicing pada dataframe)\n",
    "# Mengambil semua data dalam barisan.\n",
    "# Hanya Mengambil kolom index ke-3\n",
    "Y = dataset.iloc[:,3].values"
   ]
  },
  {
   "cell_type": "code",
   "execution_count": null,
   "metadata": {
    "_uuid": "5351fbd6905b93aad9c455ee99cb0814e55cfc58",
    "colab": {
     "base_uri": "https://localhost:8080/"
    },
    "id": "AdKUJVBbNkCv",
    "outputId": "5c0546f0-43da-4c8d-bd7b-29d809ed00e0"
   },
   "outputs": [],
   "source": [
    "# Print the X and Y\n",
    "print ('Fitur (X):', X)\n",
    "print ('\\n-----------------------------------')\n",
    "print ('\\nLabel (Y): ',Y)"
   ]
  },
  {
   "cell_type": "markdown",
   "metadata": {
    "id": "45s-6hYchOkF"
   },
   "source": [
    "\n",
    "\n",
    "## Handle Missing Data\n",
    "\n",
    "\n"
   ]
  },
  {
   "cell_type": "code",
   "execution_count": null,
   "metadata": {
    "colab": {
     "base_uri": "https://localhost:8080/",
     "height": 210
    },
    "id": "dyltZvntNkCx",
    "outputId": "fa170847-ae79-4a11-8b6d-a923a2776919"
   },
   "outputs": [],
   "source": [
    "dataset.isnull().sum()"
   ]
  },
  {
   "cell_type": "markdown",
   "metadata": {
    "id": "pBSriOpYNkCy"
   },
   "source": [
    "Dengan menggunakan fungsi isnull().sum() kita dapat melihat jumlah data yg memiliki missing value dari tiap kolom yang ada.\n",
    "Disini kita dapat melihat kalau terdapat 2 kolom yang memiliki masalah missing value, yaitu pada kolom 'Age' dan 'Salary'.\n",
    "\n",
    "Untuk menangangi masalah missing value, kita bisa melakukan 2 hal. Pertama kita bisa menghapus datanya atau kita bisa mengisi nilai yang kosong itu menggunakan nilai mean/modus/median.\n",
    "\n",
    "Pada percobaan kali ini kita akan menggunakan nilai Mean untuk mengisi missing value tersebut menggunakan bantuan Simple Imputer dari module sklearn"
   ]
  },
  {
   "cell_type": "code",
   "execution_count": null,
   "metadata": {
    "_uuid": "bc0f9fc1fde9aff85963ee3db02f1fd943d01d93",
    "id": "Yif2cv4bNkCz"
   },
   "outputs": [],
   "source": [
    "from sklearn.impute import SimpleImputer\n",
    "\n",
    "# SimpleImputer class mempunyai 2 parameter, yaitu :\n",
    "#     missing_values : Missing value pada data kita, biasanya diisi dengan np.nan\n",
    "#     strategy       : Strategi yang akan kita gunakan dalam menangani missing value (Mean/Modus/Median).\n",
    "#                      Defaultnya parameter strategy 'mean'\n",
    "\n",
    "imputer = SimpleImputer(missing_values = np.nan ,strategy = 'mean')\n",
    "\n",
    "\n",
    "# Fit imputer kedalam data X untuk kolom Age (index ke-1) dan Salary (index ke-2).\n",
    "imputer = imputer.fit(X[:,1:3])\n",
    "\n",
    "#Replace missing value dengan mean pada kolom tersebut\n",
    "X[:,1:3] = imputer.transform(X[:,1:3])\n"
   ]
  },
  {
   "cell_type": "markdown",
   "metadata": {
    "id": "Trb1-iagNkC0"
   },
   "source": [
    "Dibawah ini kita bisa melihat bahwa tidak ada nilai 'Nan' pada data X"
   ]
  },
  {
   "cell_type": "code",
   "execution_count": null,
   "metadata": {
    "_uuid": "cbb90e1ca86164287023c7fc38197bf087e0ef0e",
    "colab": {
     "base_uri": "https://localhost:8080/"
    },
    "id": "DKZ-imL7NkC1",
    "outputId": "a942a7f0-f4ad-43c4-dffe-ed73082dfedd"
   },
   "outputs": [],
   "source": [
    "print ('X: ', X)"
   ]
  },
  {
   "cell_type": "markdown",
   "metadata": {
    "_uuid": "e06044bf541de146377c72fe4f34eb83100c2f49",
    "id": "Aah_CRJ8NkC2"
   },
   "source": [
    "* Mean Value of Age    = Sum of all age values /14   = 33.714285714285715\n",
    "* Mean Value of Salary = Sum of all Salary value /14 = 54857.142857142855"
   ]
  },
  {
   "cell_type": "markdown",
   "metadata": {
    "id": "MalHK8T3WcSh"
   },
   "source": [
    "## SMOTE\n",
    "\n",
    "Imbalance Data (Ketidakseimbangan Kelas) adalah masalah yang cukup sering terjadi dimanifestasikan dalam deteksi penipuan, deteksi intrusi, deteksi aktivitas Mencurigakan untuk beberapa nama. Dalam konteks klasifikasi biner, kelas yang lebih jarang muncul disebut kelas minoritas, dan kelas yang lebih sering muncul disebut kelas mayoritas."
   ]
  },
  {
   "cell_type": "markdown",
   "metadata": {
    "id": "oFTozm5BiLJZ"
   },
   "source": [
    "Langkah pertama membuat kumpulan data sampel"
   ]
  },
  {
   "cell_type": "code",
   "execution_count": null,
   "metadata": {
    "id": "89YHsM15jq9f"
   },
   "outputs": [],
   "source": [
    "from sklearn.linear_model import LogisticRegression\n",
    "from sklearn.datasets import make_classification\n",
    "from sklearn.metrics import classification_report\n",
    "from sklearn import metrics"
   ]
  },
  {
   "cell_type": "code",
   "execution_count": null,
   "metadata": {
    "id": "4T2KVhFUiGTH"
   },
   "outputs": [],
   "source": [
    "X, y = make_classification(n_classes=2, class_sep=0.5,\n",
    "weights=[0.05, 0.95], n_informative=2, n_redundant=0, flip_y=0,\n",
    "n_features=2, n_clusters_per_class=1, n_samples=1000, random_state=10)"
   ]
  },
  {
   "cell_type": "code",
   "execution_count": null,
   "metadata": {
    "id": "ZPbOFeihMXMs"
   },
   "outputs": [],
   "source": [
    "from sklearn.model_selection import train_test_split"
   ]
  },
  {
   "cell_type": "code",
   "execution_count": null,
   "metadata": {
    "colab": {
     "base_uri": "https://localhost:8080/"
    },
    "id": "ep7mtEF0L49A",
    "outputId": "8b6b3291-f353-4e5c-d629-ee8898415f9a"
   },
   "outputs": [],
   "source": [
    "#Splitting sata menjadi data training dan data testing\n",
    "X_train, X_test, y_train, y_test = train_test_split(X, y, test_size=0.2, random_state=4)\n",
    "\n",
    "print ('Train set:', X_train.shape,  y_train.shape)\n",
    "print ('Test set:', X_test.shape,  y_test.shape)"
   ]
  },
  {
   "cell_type": "markdown",
   "metadata": {
    "id": "6hgTyiK2ic9h"
   },
   "source": [
    "make_classification adalah fungsi yang cukup berguna untuk membuat beberapa data eksperimental untuk Anda. Parameter penting di sini adalah bobot yang memastikan 95% berasal dari satu kelas dan 5% dari kelas lainnya.![smote.png](data:image/png;base64,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)\n",
    "\n",
    "Dapat dipahami bahwa kelas merah adalah kelas mayoritas dan kelas biru adalah kelas minoritas."
   ]
  },
  {
   "cell_type": "code",
   "execution_count": null,
   "metadata": {
    "colab": {
     "base_uri": "https://localhost:8080/",
     "height": 447
    },
    "id": "U2zGgOzMkMY9",
    "outputId": "7eb03d3f-c3dc-49ee-82f1-5636d384b729"
   },
   "outputs": [],
   "source": [
    "sns.countplot(y)"
   ]
  },
  {
   "cell_type": "markdown",
   "metadata": {
    "id": "cIer64fTkv80"
   },
   "source": [
    "jika kita plot count maka dapat dilihat lebih jelas adanya imbalance data di y atau label. Maka selanjutnya kita akan split data dan lihat hasil klasifikasinya dengan model Logistic Regression, ketika sebelum dan sesudah data label di masukan dalam model SMOTE."
   ]
  },
  {
   "cell_type": "code",
   "execution_count": null,
   "metadata": {
    "id": "PBA96Sk1PaNF"
   },
   "outputs": [],
   "source": [
    "from sklearn.model_selection import train_test_split\n",
    "X_train, X_test, y_train, y_test = train_test_split(X, y, test_size=0.2, random_state=42)"
   ]
  },
  {
   "cell_type": "code",
   "execution_count": null,
   "metadata": {
    "id": "b0TIOwqfi3j8"
   },
   "outputs": [],
   "source": [
    "from imblearn.over_sampling import SMOTE\n",
    "sm = SMOTE(random_state=10)\n",
    "X_res, y_res = sm.fit_resample(X_train, y_train)"
   ]
  },
  {
   "cell_type": "code",
   "execution_count": null,
   "metadata": {
    "colab": {
     "base_uri": "https://localhost:8080/",
     "height": 447
    },
    "id": "OnJEeOWykbKM",
    "outputId": "b200ca00-e46e-4c17-e277-7771ae15ca7e"
   },
   "outputs": [],
   "source": [
    "sns.countplot(y_res)"
   ]
  },
  {
   "cell_type": "markdown",
   "metadata": {
    "id": "AwHjBvVwl-an"
   },
   "source": [
    "Perhatikan bahwa plotcount sekarang sudah sama antara kelas 0 dan 1."
   ]
  },
  {
   "cell_type": "markdown",
   "metadata": {
    "id": "0WhSy4JklYEv"
   },
   "source": [
    "## Redundency Data\n",
    "\n",
    "Redudansi data adalah duplikasi atau penyimpanan data yang sama secara berulang dalam beberapa file, sehingga data yang sama di simpan di dalam lebih dari 1 lokasi. Redudansi menyebabkan masalah pada waktu memperbarui (update) data, serta dapat menghabiskan tempat penyimpanan data dan juga menimbulkan inkonsisten data, yang berarti dokumen yang sama mungkin mempunyai data yang berbeda. Akhirnya, Redundansi mengakibatkan data menjadi tidak konsisten. Penyimpanan dibeberapa tempat untuk data yang sama ini disebut sebagai redundansi dan mengakibatkan pemborosan ruang penyimpanan dan juga biaya untuk akses lebih tinggi.\n",
    "\n",
    "Dapat dilihat contoh dibawah dimana kami akan membuat sebuah dataset yang sederhana:"
   ]
  },
  {
   "cell_type": "code",
   "execution_count": null,
   "metadata": {
    "colab": {
     "base_uri": "https://localhost:8080/",
     "height": 331
    },
    "id": "vtfA9ByVlmxg",
    "outputId": "a6453c2d-e883-49ea-9093-2fbaf4801c27"
   },
   "outputs": [],
   "source": [
    "data = { 'Names':['Yusuf','Allafa','Abdiel','Ipin','Ibnu','Rifal','Haidar','Yusuf','Yusuf'],\n",
    "         'Marks':[56,89,90,45,34,65,77,56,56],\n",
    "         'City' :['Jakarta','Yogyakarta','Solo','Surabaya','Makasar','Malang','Yogyakarta','Jakarta','Jakarta']}\n",
    "\n",
    "df = pd.DataFrame(data)\n",
    "df"
   ]
  },
  {
   "cell_type": "markdown",
   "metadata": {
    "id": "q_ygcs65lriQ"
   },
   "source": [
    "Dapat dilihat pada dataset kita bahwa baris 1 dan baris terakhir memiliki duplika data. Oleh karena itu cara mengatasinya dengan menghilangkan salah satu baris tersebut, dengan menggunakan fungsi pandas yaitu **drop_duplicates()**"
   ]
  },
  {
   "cell_type": "code",
   "execution_count": null,
   "metadata": {
    "colab": {
     "base_uri": "https://localhost:8080/",
     "height": 269
    },
    "id": "HVVvN9JPlyRA",
    "outputId": "945e1bde-da0a-4673-daf0-a28d76e39ba5"
   },
   "outputs": [],
   "source": [
    "df.drop_duplicates(subset='Names', keep='first')"
   ]
  },
  {
   "cell_type": "code",
   "execution_count": null,
   "metadata": {
    "colab": {
     "base_uri": "https://localhost:8080/",
     "height": 269
    },
    "id": "toNJli9VlzNL",
    "outputId": "a3ae9bb2-6221-4e66-e38b-bfa1c21c7fe7"
   },
   "outputs": [],
   "source": [
    "df.drop_duplicates(subset='Names', keep='last')"
   ]
  },
  {
   "cell_type": "code",
   "execution_count": null,
   "metadata": {
    "colab": {
     "base_uri": "https://localhost:8080/",
     "height": 238
    },
    "id": "NwbJUZwFl45z",
    "outputId": "a5c5ef79-9fa1-40b6-eaeb-f8d103c0c903"
   },
   "outputs": [],
   "source": [
    "df.drop_duplicates(subset='Names', keep=False)"
   ]
  },
  {
   "cell_type": "code",
   "execution_count": null,
   "metadata": {
    "colab": {
     "base_uri": "https://localhost:8080/",
     "height": 238
    },
    "id": "SZ3-Wvgsl4pY",
    "outputId": "ec98cb23-3f94-4cac-e3e8-1ab92a9c8513"
   },
   "outputs": [],
   "source": [
    "df.drop_duplicates(subset='Names', keep=False, inplace=True)\n",
    "df"
   ]
  },
  {
   "cell_type": "markdown",
   "metadata": {
    "id": "94dVabSRAIot"
   },
   "source": [
    "# 2. Data Integration\n"
   ]
  },
  {
   "cell_type": "markdown",
   "metadata": {
    "id": "bh8xOo-1Anx9"
   },
   "source": [
    "Sejauh ini, kami telah memastikan untuk menghilangkan pengotor dalam data\n",
    "dan membuatnya bersih. Sekarang, langkah selanjutnya adalah menggabungkan data dari berbagai sumber untuk mendapatkan struktur terpadu dengan informasi yang lebih bermakna dan berharga. Ini sebagian besar digunakan jika data dipisahkan ke dalam sumber yang berbeda. Untuk membuatnya sederhana, mari kita asumsikan kita memiliki data dalam format CSV di tempat yang berbeda, semuanya berbicara tentang skenario yang sama. Katakanlah kita memiliki beberapa data tentang seorang karyawan dalam database. Kami tidak dapat mengharapkan semua data tentang karyawan berada di tabel yang sama. Ada kemungkinan bahwa data pribadi karyawan akan ditempatkan di satu tabel, riwayat proyek karyawan akan berada di tabel kedua, detail waktu masuk dan waktu keluar karyawan akan berada di tabel lain, dan seterusnya. Jadi, jika kita ingin melakukan beberapa analisis tentang karyawan, kita perlu mendapatkan semua data karyawan di satu tempat yang sama. Proses menyatukan data di satu tempat ini disebut integrasi data. Untuk melakukan integrasi data, kita dapat menggabungkan beberapa panda DataFrames menggunakan fungsi **merge**."
   ]
  },
  {
   "cell_type": "markdown",
   "metadata": {
    "id": "BpYetJ1dAzPP"
   },
   "source": [
    "Dalam latihan ini, kita akan menggabungkan rincian siswa dari dua dataset, yaitu student.csv dan marks.csv. Dataset siswa berisi kolom seperti jenis kelamin, ras/etnis, tingkat pendidikan orang tua, dan makan siang. Kumpulan data marks.csv berisi kolom seperti kursus persiapan ujian, skor matematika, skor membaca,dan skor menulis. Kolom Student_id adalah umum di antara dua kumpulan data. Ikuti langkah-langkah ini untuk menyelesaikan latihan ini:"
   ]
  },
  {
   "cell_type": "markdown",
   "metadata": {
    "id": "rxPw-I-3Bu9j"
   },
   "source": [
    "Dapat di download datasetnya:\n",
    "\n",
    "\n",
    "1.   Student: https://drive.google.com/file/d/1LqhvBTu43Vl_yxAdkv2n01eg4ZOdYRUp/view?usp=sharing\n",
    "2.   \n",
    "Mark : https://drive.google.com/file/d/1Lmrmp7t6Aco_a8yIF7m037N2EsV95I_g/view?usp=sharing\n",
    "\n",
    "\n",
    "\n",
    "\n"
   ]
  },
  {
   "cell_type": "code",
   "execution_count": null,
   "metadata": {
    "id": "RCPJO_uqCR2q"
   },
   "outputs": [],
   "source": [
    "# Input Dataset\n",
    "dataset1 = \"/content/Students.csv\"\n",
    "dataset2 = \"/content/Mark.csv\""
   ]
  },
  {
   "cell_type": "code",
   "execution_count": null,
   "metadata": {
    "id": "bGHR37xWAnQt"
   },
   "outputs": [],
   "source": [
    "# Define Dataset\n",
    "df1 = pd.read_csv(dataset1, header = 0)\n",
    "\n",
    "df2 = pd.read_csv(dataset2, header = 0)"
   ]
  },
  {
   "cell_type": "code",
   "execution_count": null,
   "metadata": {
    "colab": {
     "base_uri": "https://localhost:8080/",
     "height": 206
    },
    "id": "Bbs8AuBvCsxT",
    "outputId": "486afe80-9ed2-45f6-fa4d-ebf986fae881"
   },
   "outputs": [],
   "source": [
    "# Cek Dataset\n",
    "df1.head()"
   ]
  },
  {
   "cell_type": "code",
   "execution_count": null,
   "metadata": {
    "colab": {
     "base_uri": "https://localhost:8080/",
     "height": 206
    },
    "id": "eSylW0ouCvRM",
    "outputId": "a2be6487-7426-41f0-e971-a53b21933c23"
   },
   "outputs": [],
   "source": [
    "df2.head()"
   ]
  },
  {
   "cell_type": "markdown",
   "metadata": {
    "id": "lk4G9goLCzyD"
   },
   "source": [
    "Dapat dilihat memiliki dua dataset yang berbeda, dan kami bisa anggap bahwa darikedua dataset tersebut diperoleh dari kedua divisi yang berbeda di sekolah. Oleh karena itu sekarang proses integrasi data adalah pelemburan antara kedua dataset tersebut untuk dapat menjadi satu dataset yang baru, denagn syarat kedua dataset terintegrasi melalui column student ID."
   ]
  },
  {
   "cell_type": "code",
   "execution_count": null,
   "metadata": {
    "id": "vYNIyAdKDSyx"
   },
   "outputs": [],
   "source": [
    "# Integrasi Data\n",
    "df = pd.merge(df1, df2, on = 'student ID')"
   ]
  },
  {
   "cell_type": "markdown",
   "metadata": {
    "id": "WNxzXuLgEiPq"
   },
   "source": [
    "Sesudah terjadi integrasi data, maka dapat dilihat pada dataset yang baru."
   ]
  },
  {
   "cell_type": "code",
   "execution_count": null,
   "metadata": {
    "colab": {
     "base_uri": "https://localhost:8080/",
     "height": 363
    },
    "id": "538a6ArPEp6L",
    "outputId": "5deb7430-8109-4ecc-fda1-1a7ea34c5a71"
   },
   "outputs": [],
   "source": [
    "df.head(10)"
   ]
  },
  {
   "cell_type": "markdown",
   "metadata": {
    "id": "bkKUy8JhmXld"
   },
   "source": [
    "# 3. Data Transformation"
   ]
  },
  {
   "cell_type": "markdown",
   "metadata": {
    "id": "Eg9gTSbhP7ar"
   },
   "source": [
    "### **Melanjutkan dari proses data cleaning.**"
   ]
  },
  {
   "cell_type": "code",
   "execution_count": null,
   "metadata": {
    "colab": {
     "base_uri": "https://localhost:8080/",
     "height": 538
    },
    "id": "K8ibZ9YiPiBd",
    "outputId": "81d3ab43-c83c-49cd-d889-7415ab07d0e3"
   },
   "outputs": [],
   "source": [
    "dataset = pd.read_csv(\"Data.csv\")\n",
    "\n",
    "\n",
    "# Menampilkan shape dari data yg kita punya\n",
    "print('dataset:', (str(dataset.shape)))\n",
    "dataset"
   ]
  },
  {
   "cell_type": "code",
   "execution_count": null,
   "metadata": {
    "id": "3Kz8KsOCPo7Z"
   },
   "outputs": [],
   "source": [
    "# Memisahkan antara fitur dan label\n",
    "\n",
    "# Fitur\n",
    "# iloc[rows,columns] (Slicing pada dataframe)\n",
    "# Mengambil semua data dalam barisan.\n",
    "# Mengambil kolom index ke-0 sampai ke-2\n",
    "X = dataset.iloc[:,:3].values\n",
    "\n",
    "# Label\n",
    "# iloc[rows,columns] (Slicing pada dataframe)\n",
    "# Mengambil semua data dalam barisan.\n",
    "# Hanya Mengambil kolom index ke-3\n",
    "Y = dataset.iloc[:,3].values"
   ]
  },
  {
   "cell_type": "code",
   "execution_count": null,
   "metadata": {
    "colab": {
     "base_uri": "https://localhost:8080/"
    },
    "id": "gDc-LJ76PtEF",
    "outputId": "a69acfab-054e-4386-a02d-eb77fab4f66c"
   },
   "outputs": [],
   "source": [
    "# Print the X and Y\n",
    "print ('Fitur (X):', X)\n",
    "print ('\\n-----------------------------------')\n",
    "print ('\\nLabel (Y): ',Y)"
   ]
  },
  {
   "cell_type": "code",
   "execution_count": null,
   "metadata": {
    "id": "Nrj8AtNwPzBx"
   },
   "outputs": [],
   "source": [
    "from sklearn.impute import SimpleImputer\n",
    "\n",
    "# SimpleImputer class mempunyai 2 parameter, yaitu :\n",
    "#     missing_values : Missing value pada data kita, biasanya diisi dengan np.nan\n",
    "#     strategy       : Strategi yang akan kita gunakan dalam menangani missing value (Mean/Modus/Median).\n",
    "#                      Defaultnya parameter strategy 'mean'\n",
    "\n",
    "imputer = SimpleImputer(missing_values = np.nan ,strategy = 'mean')\n",
    "\n",
    "\n",
    "# Fit imputer kedalam data X untuk kolom Age (index ke-1) dan Salary (index ke-2).\n",
    "imputer = imputer.fit(X[:,1:3])\n",
    "\n",
    "#Replace missing value dengan mean pada kolom tersebut\n",
    "X[:,1:3] = imputer.transform(X[:,1:3])\n"
   ]
  },
  {
   "cell_type": "markdown",
   "metadata": {
    "id": "N4g6oWUAmllr"
   },
   "source": [
    "## Encode the Categorical data\n",
    "\n",
    "Categorical data biasanya memiliki tipe data string.\n",
    "Beberapa algoritma dapat memproses categorical data yg berbentuka string secara langsung seperti decision tree.\n",
    "\n",
    "Akan tetapi banyak machine learning algorithms tidak dapat memproses categorical data yg berbentuk string secara langsung. Mereka membutuhkan variabel yg berbentuk numeric.\n",
    "\n",
    "Itu artinya categorical data harus dikonversi bentukanya kedalam numerical form."
   ]
  },
  {
   "cell_type": "markdown",
   "metadata": {
    "id": "SsLkWc-DmvHG"
   },
   "source": [
    "Pada Dataset kita terdapat dua kolom categorical data\n",
    "\n",
    "Yaitu kolom 'Country' dan 'Purchased'"
   ]
  },
  {
   "cell_type": "markdown",
   "metadata": {
    "id": "5dhD1Jetm73_"
   },
   "source": [
    "#### Label Encoder:\n",
    "\n",
    "    * Metode ini bisa digunakan untuk mentranform non-numerical labels kedalam bentuk numerical labels (or nominal\n",
    "      categorical variables).\n",
    "    * Numerical labels akan selalu ada diantara 0 sampai n_classes-1.\n",
    "      Misalkan ada 3 kelas, berarti labelnya ada di 0, 1, dan 2."
   ]
  },
  {
   "cell_type": "code",
   "execution_count": null,
   "metadata": {
    "colab": {
     "base_uri": "https://localhost:8080/"
    },
    "id": "qq7h8QwWmjrl",
    "outputId": "79867423-1099-4aa4-ea60-3a89c33cc29d"
   },
   "outputs": [],
   "source": [
    "from sklearn.preprocessing import LabelEncoder, OneHotEncoder\n",
    "#Encode untuk data kategorikal pada kolom 'Country'\n",
    "labelencoder_X = LabelEncoder()\n",
    "X[:,0] = labelencoder_X.fit_transform(X[:,0])\n",
    "X[:,0]"
   ]
  },
  {
   "cell_type": "markdown",
   "metadata": {
    "id": "rLOJltNznNMc"
   },
   "source": [
    "Sekarang categorical value untuk kolom 'Country' dirbah ke dalam bentuk kategorikal\n",
    "\n",
    "| Country | Value |\n",
    "|:--------|:------|\n",
    "| China   |   0   |  \n",
    "| India   |   1   |   \n",
    "| Srilanka|   2   |   \n"
   ]
  },
  {
   "cell_type": "code",
   "execution_count": null,
   "metadata": {
    "colab": {
     "base_uri": "https://localhost:8080/"
    },
    "id": "bhyThPScmcoH",
    "outputId": "28b5c226-c4cb-4560-d4a0-6a43272c4508"
   },
   "outputs": [],
   "source": [
    "X"
   ]
  },
  {
   "cell_type": "markdown",
   "metadata": {
    "id": "wBUIo009n609"
   },
   "source": [
    "Sekarang categorical value untuk kolom 'Purchased' dirubah ke dalam bentuk kategorikal\n",
    "\n",
    "| Purchased| Value |\n",
    "|:---------|:------|\n",
    "| No       |   0   |  \n",
    "| Yes      |    1  |   "
   ]
  },
  {
   "cell_type": "code",
   "execution_count": null,
   "metadata": {
    "colab": {
     "base_uri": "https://localhost:8080/"
    },
    "id": "K4rwt5HinjZo",
    "outputId": "8318952c-b06a-44e2-f33c-ced0c449fe73"
   },
   "outputs": [],
   "source": [
    "#Encode untuk data kategorikal pada kolom 'Purchased'\n",
    "labelencoder_Y = LabelEncoder()\n",
    "Y = labelencoder_X.fit_transform(Y)\n",
    "Y"
   ]
  },
  {
   "cell_type": "markdown",
   "metadata": {
    "id": "5OY4oq4pndOC"
   },
   "source": [
    "## Scale your Features\n",
    "\n",
    "Dalam sebuah dataset, biasanya nilai pada tiap fitur mempunyai range yg berbeda. Hal ini dapat menjadikan masalah untuk\n",
    "beberapa model machine learning. Untuk itu kita harus melakukan scaling agar semua nilai pada fitur memiliki range yang sama. Tetapi\n",
    "Pertama, Kita akan melihat hasil ketika proses scaling diabaikan dan langsung masuk ke pemodelan.\n"
   ]
  },
  {
   "cell_type": "code",
   "execution_count": null,
   "metadata": {
    "id": "gFOJdwQKoV5i"
   },
   "outputs": [],
   "source": [
    "from sklearn.preprocessing import StandardScaler\n",
    "\n",
    "sc_X = StandardScaler()\n",
    "\n",
    "# We need to fit and transform the training set\n",
    "X = sc_X.fit_transform(X)"
   ]
  },
  {
   "cell_type": "code",
   "execution_count": null,
   "metadata": {
    "colab": {
     "base_uri": "https://localhost:8080/"
    },
    "id": "3WzMg3tPoYa3",
    "outputId": "9cf3588e-ae33-42f4-b32f-9b680fad1dd5"
   },
   "outputs": [],
   "source": [
    "X"
   ]
  },
  {
   "cell_type": "markdown",
   "metadata": {
    "id": "PGvZoXlToZDD"
   },
   "source": [
    "sekarang dapat dilihat bahwa X tiap column akan di standarisasi sesuai range antara 0 dan 1."
   ]
  }
 ],
 "metadata": {
  "colab": {
   "include_colab_link": true,
   "provenance": []
  },
  "kernelspec": {
   "display_name": "Python 3",
   "language": "python",
   "name": "python3"
  },
  "language_info": {
   "codemirror_mode": {
    "name": "ipython",
    "version": 3
   },
   "file_extension": ".py",
   "mimetype": "text/x-python",
   "name": "python",
   "nbconvert_exporter": "python",
   "pygments_lexer": "ipython3",
   "version": "3.7.6"
  }
 },
 "nbformat": 4,
 "nbformat_minor": 0
}
