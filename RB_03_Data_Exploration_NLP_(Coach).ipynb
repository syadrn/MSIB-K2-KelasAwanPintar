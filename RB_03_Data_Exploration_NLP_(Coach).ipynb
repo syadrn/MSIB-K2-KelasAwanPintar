{
 "cells": [
  {
   "cell_type": "markdown",
   "metadata": {
    "id": "drWjzMu0MoEl"
   },
   "source": [
    "# **Data Exploration in NLP (TF-IDF & Cosine Similarity)**"
   ]
  },
  {
   "cell_type": "markdown",
   "metadata": {
    "id": "C7MoqR0BBNpa"
   },
   "source": [
    "## **Membangun Sebuah Teks Korpus**\n",
    "\n",
    "Dalam praktik NLP kali ini, kita akan memahami bagaimana membangun sebuah proses dari data teks yang akan digunakan untuk klasifikasi teks atau mencari kesamaan dalam suatu dokumen teks.\n",
    "\n",
    "**Feature Engineering** merupakan bagian terpenting dalam eksplorasi data teks sebelum melakukan modelling. Tahapan-tahapan *feature engineering* yang akan dipelajari yaitu:\n",
    "\n",
    "1.   **Bag Of Words Model (BoW)**\n",
    "2.   **TF-IDF Model**\n",
    "3.   **Word2Vec or Vectorization**\n",
    "4.   **Document Similarity**\n",
    "\n",
    "Keempat tahapan ini merupakan bagian terpenting dalam *feature engineering* yang akan dipakai untuk mencari suatu fitur pada data teks atau dokumen yang akan di analisa.\n",
    "\n"
   ]
  },
  {
   "cell_type": "markdown",
   "metadata": {
    "id": "hQ28fyZAMa4-"
   },
   "source": [
    "## **Memahami Data Teks**\n",
    "\n",
    "Data Teks merupakan data yang bersifat tidak terstruktur (Unstructured data) sehingga komputer tidak bisa membaca atau memproses dengan baik ketika data teks diproses dan harus di konversikan menjadi angka atau vektor agar komputer bisa memahami data yang telah dikonversi. Berikut adalah contoh dari data kalimat atau teks yang dibuat dalam bentuk teks korpus.\n",
    "\n",
    "### **Import Library**"
   ]
  },
  {
   "cell_type": "code",
   "execution_count": null,
   "metadata": {
    "id": "Jy_kClsv_6L_"
   },
   "outputs": [],
   "source": [
    "import warnings\n",
    "warnings.filterwarnings('ignore')\n",
    "\n",
    "import pandas as pd             # library manipulasi data\n",
    "import numpy as np              # Library komputasi matematika\n",
    "import re                       # Regular Expressions\n",
    "import nltk                     # Library Natural Language Processing\n",
    "import matplotlib.pyplot as plt # Library Visualisasi Data\n",
    "\n",
    "pd.options.display.max_colwidth = 200\n",
    "%matplotlib inline"
   ]
  },
  {
   "cell_type": "code",
   "execution_count": null,
   "metadata": {
    "colab": {
     "base_uri": "https://localhost:8080/",
     "height": 300
    },
    "id": "rSiF83gjRuP-",
    "outputId": "2d3a22a9-bffb-4ec3-a694-dad11446af88"
   },
   "outputs": [],
   "source": [
    "# Membuat data teks korpus beserta labelnya\n",
    "corpus = ['Langit yang cerah dan indah sekali.',\n",
    "          'Jatuh cinta saat itu, aku melihat langit yang berwarna biru!',\n",
    "          'Kucing ku selalu mengeong tanpa sebab.',\n",
    "          \"Sarapanku pagi ini hanya berupa sayuran, buah-buahan dan susu\",\n",
    "          'Gulai Tikungan memang selalu enak walaupun porsinya sedikit',\n",
    "          'Ketika Anjingku bersuara, disitulah aku mulai gelisah!',\n",
    "          'Langit sore hari membuatku mengingat masa lalu yang indah',\n",
    "          'Kucingku entah kenapa tiba-tiba merasakan hal yang sensitif!'\n",
    "]\n",
    "# Membuat label pada teks dokumen yang dibuat\n",
    "labels = ['Cuaca', 'Cuaca', 'Hewan', 'Makanan', 'Makanan', 'Hewan', 'Cuaca', 'Hewan']\n",
    "\n",
    "corpus = np.array(corpus)\n",
    "# Membuat dataframe pada data teks korpus\n",
    "corpus_df = pd.DataFrame({'Document': corpus,\n",
    "                          'Category': labels})\n",
    "corpus_df = corpus_df[['Document', 'Category']]\n",
    "# Menampilkan dataframe\n",
    "corpus_df"
   ]
  },
  {
   "cell_type": "markdown",
   "metadata": {
    "id": "npY3J5nTtBlU"
   },
   "source": [
    "Bisa kita lihat bahwa hasil dari korpus buatan yang telah diberi label sudah kita konversikan menjadi dataframe."
   ]
  },
  {
   "cell_type": "markdown",
   "metadata": {
    "id": "pIwv1xqpTZ24"
   },
   "source": [
    "## **Pemrosesan Teks**\n",
    "\n",
    "Setelah membuat data korpus teks yang telah dikonversikan menjadi dataframe. Maka, hal yang harus dilakukan adalah pemrosesan data teks. Pemrosesan teks ini tidaklah rumit karena hanya memakai beberapa step yaitu:\n",
    "\n",
    "1. **Regular Expressions (Regex)**\n",
    "2. **Tokenisasi**\n",
    "3. **Removing Stopwords**\n",
    "\n",
    "Ketiga tahapan ini hanya untuk menormalisasikan data teks."
   ]
  },
  {
   "cell_type": "code",
   "execution_count": null,
   "metadata": {
    "colab": {
     "base_uri": "https://localhost:8080/"
    },
    "id": "vTmbqsQUTZb9",
    "outputId": "73855e54-b8a2-4a45-d3e1-b9ed6146cf68"
   },
   "outputs": [],
   "source": [
    "# Mengunduh package NLTK Stopwords\n",
    "nltk.download('stopwords')\n",
    "\n",
    "wpt = nltk.WordPunctTokenizer()\n",
    "# Mengambil Stopwords Bahasa Indonesia\n",
    "stop_words = nltk.corpus.stopwords.words('indonesian')\n",
    "\n",
    "def normalize_document(doc):\n",
    "  # Regular Expressions\n",
    "  doc = re.sub(r'[^a-zA-Z\\s]', '', doc, re.I|re.A)\n",
    "  # Mengubah huruf besar menjadi kecil\n",
    "  doc = doc.lower()\n",
    "  doc = doc.strip()\n",
    "  # Tokenisasi pada dokumen teks\n",
    "  tokens = wpt.tokenize(doc)\n",
    "  # filter atau menghapus stopwords pada dokumen teks\n",
    "  filtered_tokens = [token for token in tokens if token not in stop_words]\n",
    "  # Membuat kembali dokumen teks dari token yang telah di filtering\n",
    "  doc = ' '.join(filtered_tokens)\n",
    "  return doc\n",
    "# Membuat vektorisasi pada data teks\n",
    "normalize_corpus = np.vectorize(normalize_document)"
   ]
  },
  {
   "cell_type": "code",
   "execution_count": null,
   "metadata": {
    "colab": {
     "base_uri": "https://localhost:8080/"
    },
    "id": "GGBAa8NscUW3",
    "outputId": "070003cc-6df1-4a61-95a1-f509a4308ec6"
   },
   "outputs": [],
   "source": [
    "# Hasil normalisasi teks\n",
    "norm_corpus = normalize_corpus(corpus)\n",
    "norm_corpus"
   ]
  },
  {
   "cell_type": "markdown",
   "metadata": {
    "id": "MmCPHZxhUe-n"
   },
   "source": [
    "Bisa kita lihat hasil yang diperoleh yaitu pada saat normalisasi teks ada beberapa tanda baca atau kata yang dihapus. Hal ini dikarenakan pada saat normalisasi teks menghapus tanda baca dan kata-kata yang tidak dianggap penting."
   ]
  },
  {
   "cell_type": "markdown",
   "metadata": {
    "id": "Zs-w_HSlkXrr"
   },
   "source": [
    "Setelah dilakukan pemrosesan teks dengan 3 tahapan maka selanjutnya melakukan proses ekstraksi fitur pada data teks dengan menggunakan metode Bag Of Words (BoW)."
   ]
  },
  {
   "cell_type": "markdown",
   "metadata": {
    "id": "CE0QOEjzdFuA"
   },
   "source": [
    "## **Bag Of Words Model**\n",
    "\n",
    "**Bag of Words (BoW)** merupakan salah satu metode paling sederhana dalam mengubah data teks menjadi vektor yang dapat dipahami oleh komputer. Metode ini sejatinya hanya menghitung frekuensi kemunculan kata pada seluruh dokumen. Bag Of Words juga merupakan suatu metode ekstraksi fitur teks pada Natural Language Processing (NLP) yang digunakan dalam pemodelan teks seperti *Topic Modelling*, *Text Classification*, *Sentiment Analysis*, dan *Chatbot*."
   ]
  },
  {
   "cell_type": "code",
   "execution_count": null,
   "metadata": {
    "colab": {
     "base_uri": "https://localhost:8080/"
    },
    "id": "xlxjcH3CcetY",
    "outputId": "7c68f30d-245d-470d-a40f-d396db29166f"
   },
   "outputs": [],
   "source": [
    "# Import Library Scikit Learn\n",
    "from sklearn.feature_extraction.text import CountVectorizer\n",
    "# Mendapatkan fitur bag of words dalam bentuk matriks sparse\n",
    "cv = CountVectorizer(min_df = 0., max_df = 1.)\n",
    "cv_matrix = cv.fit_transform(norm_corpus)\n",
    "cv_matrix"
   ]
  },
  {
   "cell_type": "code",
   "execution_count": null,
   "metadata": {
    "colab": {
     "base_uri": "https://localhost:8080/"
    },
    "id": "uSL_RLy_s8Hc",
    "outputId": "44f2c4d0-fa84-4ea4-b5d9-b7d1a71afef7"
   },
   "outputs": [],
   "source": [
    "# Melihat posisi fitur non-zero dalam bentuk matriks sparse\n",
    "print(cv_matrix)"
   ]
  },
  {
   "cell_type": "markdown",
   "metadata": {
    "id": "b3zuc1aSs76X"
   },
   "source": [
    "Hasil diatas menunjukan bahwa hasil fitur BoW diubah menjadi Matriks Sparse atau jarang. Fitur matriks sparse ini direpresentasikan secara tradisional karena jumlah fitur data teks yang meningkat secara fenomenal dengan setiap dokumen teks mengingat setiap kata yang berbeda diubah menjadi fitur.\n",
    "\n",
    "Output sebelumnya, memberitahukan jumlah total untuk setiap pasangan **(x,y)**. Dalam keluaran tersebut bahwa **x** mewakili dokumen teks dan y mewakili kata atau fitur tertentu dan nilainya adalah berapa kali **y** muncul di **x**."
   ]
  },
  {
   "cell_type": "code",
   "execution_count": null,
   "metadata": {
    "colab": {
     "base_uri": "https://localhost:8080/"
    },
    "id": "sbUoZX9ItHBp",
    "outputId": "ae02de2f-0abf-4899-b451-65e371fedef9"
   },
   "outputs": [],
   "source": [
    "# Melihat Representasi Dense\n",
    "# Peringatan mungkin memberikan kesalahan memori jika data terlalu besar!\n",
    "cv_matrix = cv_matrix.toarray()\n",
    "cv_matrix"
   ]
  },
  {
   "cell_type": "markdown",
   "metadata": {
    "id": "Dk4o3yg_nUnp"
   },
   "source": [
    "Hasil diatas menunjukan bahwa dokumen teks diubah menjadi vektor numerik sehingga setiap teks atau dokumen diwakili oleh satu vektor atau baris dalam fitur matriks dan masing-masing tiap kolom mewakili kata unik sebagai fiturnya."
   ]
  },
  {
   "cell_type": "code",
   "execution_count": null,
   "metadata": {
    "colab": {
     "base_uri": "https://localhost:8080/",
     "height": 393
    },
    "id": "aA0LDANftMaQ",
    "outputId": "bd02ed14-521f-4de9-a86b-dba374166704"
   },
   "outputs": [],
   "source": [
    "# Mendapatkan semua kata-kata unik dalam teks korpus\n",
    "vocab = cv.get_feature_names_out()\n",
    "# Menampilkan teks dalam bentuk vektor\n",
    "pd.DataFrame(cv_matrix, columns=vocab)"
   ]
  },
  {
   "cell_type": "markdown",
   "metadata": {
    "id": "ITUrYki0oyIb"
   },
   "source": [
    "Bisa kita lihat hasil diatas menunjukan bahwa setiap kolom atau dimensi dalam fitur vektor mewakili kata dari data teks korpus. Nilai dalam setiap sel tersebut mewakili berapa kali kata-kata itu (diwakili oleh kolom) muncul dalam teks atau dokumen tertentu (diwakili oleh baris).\n",
    "\n",
    "Contohnya, seperti kata biru, indah, dan langit yang dimana muncul sekali dan karena itulah, fitur yang sesuai memiliki nilai 1 untuk baris pertama dalam output sebelumnya. Oleh karena itu, jika data teks korpus terdiri dari **N** kata unik setiap teks atau dokumen maka kita akan mendapatkan vektor N-dimensi untuk setiap teksnya."
   ]
  },
  {
   "cell_type": "markdown",
   "metadata": {
    "id": "4WWwDTjVtkUt"
   },
   "source": [
    "## **TF-IDF Model**\n",
    "\n",
    "Setelah kita mengetahui preprocessing teks dengan BoW (Bag of Words) maka metode selanjutnya yang kita pelajari yaitu menggunakan model TF-IDF sebagai bentuk pengubahan data teks menjadi vektor.\n",
    "\n",
    "**TF-IDF** merupakan singkatan dari **Term Frequency — Inverse Document Frequency**. Sejatinya, TF-IDF merupakan gabungan dari 2 proses yaitu **Term Frequency (TF)** dan **Inverse Document Frequency (IDF)**.\n",
    "\n",
    "TF-IDF biasa digunakan ketika kita ingin mengubah data teks menjadi vektor namun dengan memperhatikan apakah sebuah kata tersebut cukup informatif atau tidak.**Mudahnya, TF-IDF membuat kata yang sering muncul memiliki nilai yang cenderung kecil, sedangkan untuk kata yang semakin jarang muncul akan memiliki nilai yang cenderung besar**.\n",
    "\n",
    "**Kata yang sering muncul disebut juga Stopwords biasanya dianggap kurang penting**, salah satu contohnya adalah kata hubung (yang, di, akan, dengan, dll)."
   ]
  },
  {
   "cell_type": "markdown",
   "metadata": {
    "id": "GFHML5U3xZWz"
   },
   "source": [
    "### **Understanding TF-IDF from Scratch (Memahami TF-IDF Dari Awal)**\n",
    "\n",
    "Untuk memahami metode TF-IDF dari awal kita bisa mengambil data yang telah dipakai sebelumnya yaitu dari data teks korpus yang telah dibuat dan juga memuat dependensi yang diperlukan dan menghitung Term Frequency (TF) pada data teks korpus.\n",
    "\n",
    "**Apa itu Term Frequency?**\n",
    "\n",
    "**Term Frequency (TF)** menghitung frekuensi jumlah kemunculan kata pada sebuah dokumen. Karena panjang dari setiap dokumen bisa berbeda-beda, maka umumnya nilai TF ini dibagi dengan panjang dokumen (jumlah seluruh kata pada dokumen). Rumus dari TF yaitu,\n",
    "\n",
    "![image.png](data:image/png;base64,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)\n",
    "\n",
    "Keterangan:\n",
    "\n",
    "**tf** = frekuensi kemunculan kata pada sebuah dokumen\n",
    "\n",
    "Sumber: [Bag of Words vs TF-IDF — Penjelasan dan Perbedaannya](https://medium.com/data-folks-indonesia/bag-of-words-vs-tf-idf-penjelasan-dan-perbedaannya-3739f32cdc72)"
   ]
  },
  {
   "cell_type": "code",
   "execution_count": null,
   "metadata": {
    "colab": {
     "base_uri": "https://localhost:8080/"
    },
    "id": "CGdlAIIlx2KQ",
    "outputId": "f71d8a4d-b71b-4c1e-acf9-e3c17520d9a8"
   },
   "outputs": [],
   "source": [
    "# Mendapatkan kata-kata unik sebagai fitur nama atau teks\n",
    "unique_words = list(set([word for doc in [doc.split() for doc in norm_corpus]\n",
    "                         for word in doc]))\n",
    "def_feature_dict = {w: 0 for w in unique_words}\n",
    "print('Feature Names:', unique_words)\n",
    "print('Default Feature Dict:', def_feature_dict)"
   ]
  },
  {
   "cell_type": "code",
   "execution_count": null,
   "metadata": {
    "colab": {
     "base_uri": "https://localhost:8080/",
     "height": 393
    },
    "id": "rpowjyewyHoo",
    "outputId": "034a9907-c555-4a63-c607-f37c2a0fd335"
   },
   "outputs": [],
   "source": [
    "from collections import Counter\n",
    "# Membangun fitur Bag of Words untuk dokumen teks dalam term frequency (TF)\n",
    "bow_features = []\n",
    "for doc in norm_corpus:\n",
    "  bow_feature_doc = Counter(doc.split())\n",
    "  all_features = Counter(def_feature_dict)\n",
    "  bow_feature_doc.update(all_features)\n",
    "  bow_features.append(bow_feature_doc)\n",
    "# Mengubah hasil fitur BoW dengan dataframe\n",
    "bow_features = pd.DataFrame(bow_features)\n",
    "# Menampilkan fitur TF dan BoW\n",
    "bow_features"
   ]
  },
  {
   "cell_type": "markdown",
   "metadata": {
    "id": "lAOH3iY-yJSo"
   },
   "source": [
    "Setelah mengetahui Term Frequency (TF) maka dilanjutkan untuk menghitung frekuensi dokumen teks atau *Document Frequency* (DF) untuk setiap istilah tersebut muncul.\n",
    "\n",
    "**Apa itu Inverse Document Frequency (IDF)?**\n",
    "\n",
    "**Inverse Document Frequency (IDF)** merupakan nilai untuk mengukur seberapa penting sebuah kata. IDF akan menilai kata yang sering muncul sebagai kata yang kurang penting berdasarkan kemunculan kata tersebut pada seluruh dokumen. Semakin kecil nilai IDF maka akan dianggap semakin tidak penting kata tersebut, begitu pula sebaliknya. Rumus dari IDF yaitu,\n",
    "\n",
    "![image.png](data:image/png;base64,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)\n"
   ]
  },
  {
   "cell_type": "code",
   "execution_count": null,
   "metadata": {
    "colab": {
     "base_uri": "https://localhost:8080/",
     "height": 174
    },
    "id": "roSjO3y3yCYA",
    "outputId": "752e03ef-a97c-4ac8-b1e5-af43a3b03e02"
   },
   "outputs": [],
   "source": [
    "import scipy.sparse as sp\n",
    "feature_names = list(bow_features.columns)\n",
    "\n",
    "# Membangun matriks frekuensi dokumen (DF)\n",
    "df = np.diff(sp.csc_matrix(bow_features, copy=True).indptr)\n",
    "df = 1 + df # Ditambahkan angka 1 untuk memperlancar metode IDF\n",
    "\n",
    "# Menampilkan frekuensi dokumen yang telah diperhalus\n",
    "pd.DataFrame([df], columns=feature_names)"
   ]
  },
  {
   "cell_type": "markdown",
   "metadata": {
    "id": "eCycgZkVxYt7"
   },
   "source": [
    "Hasil diatas menunjukan bahwa frekuensi dokumen pada teks untuk setiap kata atau istilah dapat di verifikasikan dengan data teks korpus sebelumnya. Dalam metode IDF tersebut, ditambahkan 1 disetiap nilai frekuensi dokumen untuk mempermudah metode IDF dan mencegah kesalahan pembagian dengan nol dengan asumsi yang dimiliki dalam dokumen keseluruhan yang memiliki persyaratan sekaligus.\n",
    "\n",
    "Jadi, jika kalian memeriksa data korpus diatas yang diperoleh yaitu dimana kalian akan melihat bahwa kata \"**langit**\" yang muncul 3(+1) kali, kemudian kata \"**indah**\" yang muncul 2(+1) kali dan seterusnya dari kemunculan suatu teks yang ditambahkan nilai 1 untuk IDF."
   ]
  },
  {
   "cell_type": "code",
   "execution_count": null,
   "metadata": {
    "colab": {
     "base_uri": "https://localhost:8080/",
     "height": 174
    },
    "id": "92L95_No_O29",
    "outputId": "ca638ea4-b13f-4fd1-dd80-fe26c38cf1f4"
   },
   "outputs": [],
   "source": [
    "# compute inverse document frequencies\n",
    "# Hitung Inverse Document Frequency\n",
    "total_docs = 1 + len(norm_corpus)\n",
    "idf = 1.0 + np.log(float(total_docs) / df)\n",
    "# show smoothened idfs\n",
    "# Menampilkan hasil dari IDF\n",
    "pd.DataFrame([np.round(idf, 2)], columns=feature_names)"
   ]
  },
  {
   "cell_type": "markdown",
   "metadata": {
    "id": "ErBWvim2YQjs"
   },
   "source": [
    "Dari hasil diatas menunjukan bahwa setelah menghitung inverse document frequency (IDF) yang ditambahkan dengan nilai 1 ke dalam jumlah total dokumen atau teks korpus untuk menambahkan data teks yang kita asumsikan sebelumnya berisi tentang semua istilah setidaknya satu kali dalam memperlancar hitungan metode IDF.\n",
    "\n",
    "Setelah mendapatkan hasil dari IDF pada teks korpus maka selanjutnya bisa kita konversikan menjadi operasi matriks untuk mempermudah saat menghitung nilai skor dari TF-IDF pada data teks korpus secara keseluruhan."
   ]
  },
  {
   "cell_type": "code",
   "execution_count": null,
   "metadata": {
    "colab": {
     "base_uri": "https://localhost:8080/",
     "height": 988
    },
    "id": "IxE1Kto_YHzS",
    "outputId": "54b13839-fc67-4c5e-869e-a638441f03d2"
   },
   "outputs": [],
   "source": [
    "# compute idf diagonal matrix\n",
    "total_features = bow_features.shape[1]\n",
    "idf_diag = sp.spdiags(idf, diags=0, m=total_features, n=total_features)\n",
    "idf_dense = idf_diag.todense()\n",
    "\n",
    "# print the idf diagonal matrix\n",
    "pd.DataFrame(np.round(idf_dense, 2))"
   ]
  },
  {
   "cell_type": "markdown",
   "metadata": {
    "id": "1Ht6S773fsow"
   },
   "source": [
    "Dapat dilihat hasil diatas menunjukkan matriks dari IDF (*Inverse Document Frequency*) yang dibuat berdasarkan basis persamaan matematika. Dalam code tersebut ditunjukkan untuk mengubahnya menjadi matriks diagonal yang nantinya akan berguna saat ingin menghitung hasil perkalian dengan metode *Term Frequency*."
   ]
  },
  {
   "cell_type": "markdown",
   "metadata": {
    "id": "mw-xtGCJglJD"
   },
   "source": [
    "Setelah mendapatkan hasil dari perhitungan dari TF dan IDF maka kita dapat menghitung nilai matriks fitur TF-IDF menggunakan matriks multiplikasi atau *matrix multiplications* yang akan digambarkan dalam code dibawah ini."
   ]
  },
  {
   "cell_type": "code",
   "execution_count": null,
   "metadata": {
    "colab": {
     "base_uri": "https://localhost:8080/",
     "height": 393
    },
    "id": "zi5lA0y5grr4",
    "outputId": "b0ef191f-c89a-466f-ea07-8b6dd0c7c9e2"
   },
   "outputs": [],
   "source": [
    "# Komputasi matriks fitur TF-IDF\n",
    "tf = np.array(bow_features, dtype='float64')\n",
    "tfidf = tf * idf\n",
    "# view raw tfidf feature matrix\n",
    "# Melihat hasil Raw fitur matriks TF-IDF\n",
    "pd.DataFrame(np.round(tfidf, 2), columns=feature_names)"
   ]
  },
  {
   "cell_type": "markdown",
   "metadata": {
    "id": "Uih4Hp373JC5"
   },
   "source": [
    "Dari hasil diatas yang kita lihat sekarang adalah menampilkan hasil dari fitur matriks tf-idf dimana perhitungan dari TF dan IDF pada data teks korpus. Namun, jika kalian masih ingat bahwa kita harus membagi hasil tf-idf ini dengan normalisasi L2.\n",
    "\n",
    "Normalisasi L2 pada metode TF-IDF ini digunakan untuk menghitung setiap dokumen teks korpus dan kemudian membagi bobot dari teks tersebut dengan normalisasi untuk memberikan hasil matriks TF-IDF yang sesuai."
   ]
  },
  {
   "cell_type": "code",
   "execution_count": null,
   "metadata": {
    "colab": {
     "base_uri": "https://localhost:8080/"
    },
    "id": "FDYTytfa4lx9",
    "outputId": "158b8627-c02b-4296-f939-abc023a9c650"
   },
   "outputs": [],
   "source": [
    "from numpy.linalg import norm\n",
    "# Normalisasi L2\n",
    "norms = norm(tfidf, axis=1)\n",
    "# Menampilkan hasil normalisasi untuk tiap dokumen teks\n",
    "print (np.round(norms, 3))"
   ]
  },
  {
   "cell_type": "code",
   "execution_count": null,
   "metadata": {
    "colab": {
     "base_uri": "https://localhost:8080/",
     "height": 393
    },
    "id": "u_QX7oxD46UV",
    "outputId": "8caa8b1d-79c0-479d-ba23-2fe8140b70e2"
   },
   "outputs": [],
   "source": [
    "# Menghitung komputasi normalisasi TF-IDF\n",
    "norm_tfidf = tfidf / norms[:, None]\n",
    "# Menampilkan hasil akhir matriks fitur TF-IDF\n",
    "pd.DataFrame(np.round(norm_tfidf, 2), columns=feature_names)"
   ]
  },
  {
   "cell_type": "markdown",
   "metadata": {
    "id": "QYOn4NiY6AZ9"
   },
   "source": [
    "Bisa kita lihat hasil akhir dari normalisasi L2 dengan TF-IDF yaitu dimana kita bisa mengetahui kata-kata unik atau sering muncul pada dokumen teks. Sebagaimana yang disebutkan pada istilah TF-IDF yaitu digunakan untuk mencari kata atau istilah yang sering muncul atau mengandung unsur kata yang unik."
   ]
  },
  {
   "cell_type": "markdown",
   "metadata": {
    "id": "GTHPj4ax6mu2"
   },
   "source": [
    "### **TF-IDF Transformer**\n",
    "\n",
    "Jika kita sudah mengetahui metode TF-IDF dari awal agar dapat dipahami. Maka, kita bisa gunakan pada library scikit-learn Python agar memudahkan proses mendapatkan fitur pada data teks korpus. Model TF-IDF memiliki 2 pemakaian dalam library Scikit-Learn pada Python yaitu menggunakan `TfidfTransformer` dan `TfidfVectorizer`.\n",
    "\n",
    "Berikut kode dibawah ini merupakan TF-IDF untuk Transformasi pada data teks korpus.\n",
    "\n"
   ]
  },
  {
   "cell_type": "code",
   "execution_count": null,
   "metadata": {
    "colab": {
     "base_uri": "https://localhost:8080/",
     "height": 393
    },
    "id": "SdqRIq4Nti8I",
    "outputId": "00e12f27-6708-433a-a2d3-30b308d76e9e"
   },
   "outputs": [],
   "source": [
    "from sklearn.feature_extraction.text import TfidfTransformer\n",
    "# TF-IDF Model\n",
    "tt = TfidfTransformer(norm='l2', use_idf=True, smooth_idf=True)\n",
    "tt_matrix = tt.fit_transform(cv_matrix)\n",
    "\n",
    "tt_matrix = tt_matrix.toarray()\n",
    "vocab = cv.get_feature_names_out()\n",
    "pd.DataFrame(np.round(tt_matrix, 2), columns=vocab)"
   ]
  },
  {
   "cell_type": "markdown",
   "metadata": {
    "id": "N47o1VSn8X5R"
   },
   "source": [
    "Dapat dilihat bahwa dalam pemrosesan tersebut menggunakan opsi normalisasi L2 dari parameter dan memastikan perhitungan IDF untuk memberikan bobot pada tiap dokumen teks korpus yang memungkinkan memiliki nilai nol (0) sehingga pada saat pemrosesan tersebut tidak diabaikan atau dilewati."
   ]
  },
  {
   "cell_type": "markdown",
   "metadata": {
    "id": "PR2d47tfxZ_W"
   },
   "source": [
    "### **TF-IDF Vectorizer**\n",
    "\n",
    "Selain model transformasi pada TF-IDF, bisa juga menggunakan mode *Vectorizer* atau Vektorisasi. **TF-IDF Vectorizer** memungkinkan langsung untuk menghitung vektor TF-IDF dengan mengambil dokumen teks korpus sebagai masukkan data dan kemudian melakukan komputasi mendalam pada Term Frequency dari tiap kata-kata dokumen. Ini sebabnya untuk melakukan pemilahan berdasarkan kebutuhan dalam menggunakan mode `TfidfVectorizer` untuk menghitung frekuensi dokumen teks berdasarkan model Bag Of Words (BoW). Mode **Vectorizer** ini didukung juga untuk menambahkan N-Grams ke dalam vektor fitur.\n",
    "\n",
    "Berikut kode dibawah ini, TF-IDF mode `TfidfVectorizer` pada data teks korpus."
   ]
  },
  {
   "cell_type": "code",
   "execution_count": null,
   "metadata": {
    "colab": {
     "base_uri": "https://localhost:8080/",
     "height": 393
    },
    "id": "USpmCHrvttBj",
    "outputId": "47cc5311-c5d4-4413-b313-8b923b87d210"
   },
   "outputs": [],
   "source": [
    "from sklearn.feature_extraction.text import TfidfVectorizer\n",
    "\n",
    "tv = TfidfVectorizer(min_df=0., max_df=1., norm='l2',\n",
    "                     use_idf=True, smooth_idf=True)\n",
    "tv_matrix = tv.fit_transform(norm_corpus)\n",
    "tv_matrix = tv_matrix.toarray()\n",
    "\n",
    "vocab = tv.get_feature_names_out()\n",
    "pd.DataFrame(np.round(tv_matrix, 2), columns=vocab)"
   ]
  },
  {
   "cell_type": "markdown",
   "metadata": {
    "id": "jE_m7BwwCipj"
   },
   "source": [
    "Bisa kita lihat bahwa sama seperti sebelumnya di mode Transformer yaitu menggunakan normalisasi L2 dari parameter dan memastikan dalam menghitung IDF dengan baik. Dalam hasil tersebut juga terdapat vektor TF-IDF yang cocok dengan data yang diperoleh sebelumnya.\n",
    "\n",
    "Jika Anda membandingkan matriks fitur `tfidf` yang diperoleh pada kode diatas untuk dokumen teks korpus dengan matriks fitur yang diperoleh menggunakan `TfidfTransformer` atau `TfidfVectorizer` sebelumnya. Maka kita akan melihat bahwa metode tersebut memiliki kesamaan, sehingga memverifikasi bahwa implementasi matematika menyesuaikan dengan rumus TF-IDF. Faktanya, implementasi yang sama saat ini diadopsi oleh **Scikit-Learn** di belakang layar menggunakan beberapa pengoptimalan saat komputasi."
   ]
  },
  {
   "cell_type": "markdown",
   "metadata": {
    "id": "r9FVVd4cGjiy"
   },
   "source": [
    "## **Word Vectorization Using Word2Vec**\n",
    "\n",
    "Setelah melakukan proses TF-IDF untuk mencari fitur data teks. Maka, tahapan ini merupakan bagian dari Word Embedding yaitu proses dimana representasi vektor dari kata tertentu. Embeddings bisa dihitung dengan banyak cara.\n"
   ]
  },
  {
   "cell_type": "code",
   "execution_count": null,
   "metadata": {
    "colab": {
     "base_uri": "https://localhost:8080/"
    },
    "id": "_6z32KtaGh8Q",
    "outputId": "89b25967-a26d-47b9-ff01-c9614199ddca"
   },
   "outputs": [],
   "source": [
    "from keras.preprocessing import text\n",
    "from keras.utils import np_utils\n",
    "from keras.preprocessing import sequence\n",
    "from tensorflow.keras.preprocessing.sequence import pad_sequences\n",
    "\n",
    "tokenizer = text.Tokenizer()\n",
    "tokenizer.fit_on_texts(norm_corpus)\n",
    "word2id = tokenizer.word_index\n",
    "\n",
    "word2id['PAD'] = 0\n",
    "id2word = {v:k for k, v in word2id.items()}\n",
    "wids = [[word2id[w] for w in text.text_to_word_sequence(doc)] for doc in norm_corpus]\n",
    "\n",
    "vocab_size = len(word2id)\n",
    "embed_size = 100\n",
    "window_size = 2\n",
    "\n",
    "print('Vocabulary Size:', vocab_size)\n",
    "print('Vocabulary Sample:', list(word2id.items())[:10])"
   ]
  },
  {
   "cell_type": "code",
   "execution_count": null,
   "metadata": {
    "colab": {
     "base_uri": "https://localhost:8080/"
    },
    "id": "J9vlSG_cc0ez",
    "outputId": "998dc588-be1e-4372-fc49-d6e75bc1ad6f"
   },
   "outputs": [],
   "source": [
    "from gensim.models import word2vec\n",
    "\n",
    "# tokenize sentences in corpus\n",
    "wpt = nltk.WordPunctTokenizer()\n",
    "tokenized_corpus = [wpt.tokenize(document) for document in norm_corpus]\n",
    "\n",
    "# Set values for various parameters\n",
    "feature_size = 100    # Word vector dimensionality\n",
    "window_context = 30   # Context window size\n",
    "min_word_count = 1   # Minimum word count\n",
    "sample = 1e-3   # Downsample setting for frequent words\n",
    "\n",
    "w2v_model = word2vec.Word2Vec(tokenized_corpus,\n",
    "                              window=window_context,\n",
    "                              vector_size = feature_size,\n",
    "                              min_count=min_word_count,\n",
    "                              epochs = 100,\n",
    "                              sample=sample)\n",
    "\n",
    "# view similar words based on gensim's model\n",
    "similar_words = {search_term: [item[0] for item in w2v_model.wv.most_similar([search_term], topn=5)]\n",
    "                  for search_term in ['buahbuahan', 'indah', 'pagi', 'biru', 'susu', 'cinta', 'jatuh','berwarna']}\n",
    "similar_words"
   ]
  },
  {
   "cell_type": "code",
   "execution_count": null,
   "metadata": {
    "colab": {
     "base_uri": "https://localhost:8080/",
     "height": 504
    },
    "id": "kyi51h_To667",
    "outputId": "99d51e45-2ee7-490c-a8e4-158a3cf07191"
   },
   "outputs": [],
   "source": [
    "from sklearn.manifold import TSNE\n",
    "\n",
    "words = sum([[k] + v for k, v in similar_words.items()], [])\n",
    "wvs = w2v_model.wv[words]\n",
    "\n",
    "tsne = TSNE(n_components=2, random_state=0, n_iter=10000, perplexity=2)\n",
    "np.set_printoptions(suppress=True)\n",
    "T = tsne.fit_transform(wvs)\n",
    "labels = words\n",
    "\n",
    "plt.figure(figsize=(14, 8))\n",
    "plt.scatter(T[:, 0], T[:, 1], c='orange', edgecolors='r')\n",
    "for label, x, y in zip(labels, T[:, 0], T[:, 1]):\n",
    "    plt.annotate(label, xy=(x+1, y+1), xytext=(0, 0), textcoords='offset points')"
   ]
  },
  {
   "cell_type": "code",
   "execution_count": null,
   "metadata": {
    "id": "zCOulEtMCt37"
   },
   "outputs": [],
   "source": [
    "wpt = nltk.WordPunctTokenizer()\n",
    "tokenized_corpus = [wpt.tokenize(document) for document in norm_corpus]\n",
    "\n",
    "# Set values for various parameters\n",
    "feature_size = 10    # Word vector dimensionality\n",
    "window_context = 10  # Context window size\n",
    "min_word_count = 1   # Minimum word count\n",
    "sample = 1e-3   # Downsample setting for frequent words\n",
    "\n",
    "w2v_model = word2vec.Word2Vec(tokenized_corpus,\n",
    "                              vector_size = feature_size,\n",
    "                              window=window_context,\n",
    "                              min_count = min_word_count,\n",
    "                              epochs = 100,\n",
    "                              sample = sample)"
   ]
  },
  {
   "cell_type": "code",
   "execution_count": null,
   "metadata": {
    "colab": {
     "base_uri": "https://localhost:8080/",
     "height": 542
    },
    "id": "dTj-KstEDBqo",
    "outputId": "9e6caf92-0692-412c-aa5a-d1d835c6d2b3"
   },
   "outputs": [],
   "source": [
    "from sklearn.manifold import TSNE\n",
    "\n",
    "words = w2v_model.wv.index_to_key\n",
    "wvs = w2v_model.wv[words]\n",
    "\n",
    "tsne = TSNE(n_components=2, random_state=0, n_iter=5000, perplexity=2)\n",
    "np.set_printoptions(suppress=True)\n",
    "T = tsne.fit_transform(wvs)\n",
    "labels = words\n",
    "\n",
    "plt.figure(figsize=(12, 6))\n",
    "plt.scatter(T[:, 0], T[:, 1], c='blue', edgecolors='r')\n",
    "for label, x, y in zip(labels, T[:, 0], T[:, 1]):\n",
    "    plt.annotate(label, xy=(x+1, y+1), xytext=(0, 0), textcoords='offset points')"
   ]
  },
  {
   "cell_type": "code",
   "execution_count": null,
   "metadata": {
    "colab": {
     "base_uri": "https://localhost:8080/"
    },
    "id": "_wjRlucBEQSp",
    "outputId": "2dc8acf0-f807-4b56-e6f9-a2f912ea5aa9"
   },
   "outputs": [],
   "source": [
    "w2v_model.wv['langit']"
   ]
  },
  {
   "cell_type": "code",
   "execution_count": null,
   "metadata": {
    "colab": {
     "base_uri": "https://localhost:8080/"
    },
    "id": "GPjUY2KuFuze",
    "outputId": "ee13552c-783a-4b78-d74d-7916ee7aa515"
   },
   "outputs": [],
   "source": [
    "w2v_model.wv['cerah']"
   ]
  },
  {
   "cell_type": "markdown",
   "metadata": {
    "id": "j_EChU_jG9qT"
   },
   "source": [
    "## **Document Similarity**\n",
    "\n",
    "Setelah kita mengetahui Word Vectorization Menggunakan Word2Vec. Ada tahapan feature engineering yang dipelajari bagian akhir yaitu cara mencari kesamaan dalam suatu dokumen teks dengan menggunakan metode Cosine Similarity.\n",
    "\n",
    "\n",
    "\n",
    "\n",
    "\n"
   ]
  },
  {
   "cell_type": "markdown",
   "metadata": {
    "id": "dxjsBEoeiZu2"
   },
   "source": [
    "### **Cosine Similarity**\n",
    "\n",
    "**Cosine Similarity** adalah metode machine learning yang digunakan untuk mencari kesamaan dalam suatu teks atau dokumen. Metode ini merupakan model aljabar untuk representasi dokumen teks seperti pada *term index* yang digunakan pada *ranked retrieval*, termasuk *document clustering* dan *text classification*."
   ]
  },
  {
   "cell_type": "code",
   "execution_count": null,
   "metadata": {
    "colab": {
     "base_uri": "https://localhost:8080/",
     "height": 300
    },
    "id": "wovuC18LHDQ2",
    "outputId": "f8f9d7eb-f0be-4c6e-98da-702a3e6257b1"
   },
   "outputs": [],
   "source": [
    "from sklearn.metrics.pairwise import cosine_similarity\n",
    "\n",
    "similarity_matrix = cosine_similarity(tv_matrix)\n",
    "similarity_df = pd.DataFrame(similarity_matrix)\n",
    "similarity_df"
   ]
  },
  {
   "cell_type": "markdown",
   "metadata": {
    "id": "qvhPCpSyHIAS"
   },
   "source": [
    "## **Summary**\n",
    "\n",
    "Berdasarkan Hands-on code yang telah dijabarkan bahwa kita telah mengetahui bagaimana cara mengolah data teks yang harus dilakukan dalam eksplorasi data teks. Tahapan-tahapan ini dikenal dengan nama **Feature Engineering**."
   ]
  }
 ],
 "metadata": {
  "colab": {
   "include_colab_link": true,
   "provenance": [],
   "toc_visible": true
  },
  "gpuClass": "standard",
  "kernelspec": {
   "display_name": "Python 3",
   "name": "python3"
  },
  "language_info": {
   "name": "python"
  }
 },
 "nbformat": 4,
 "nbformat_minor": 0
}
